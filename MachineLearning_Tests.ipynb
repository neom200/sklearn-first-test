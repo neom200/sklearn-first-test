{
  "nbformat": 4,
  "nbformat_minor": 0,
  "metadata": {
    "colab": {
      "name": "MachineLearning - Tests.ipynb",
      "provenance": [],
      "authorship_tag": "ABX9TyMz7R8lPnWkwF8wj8Bbvj2l",
      "include_colab_link": true
    },
    "kernelspec": {
      "name": "python3",
      "display_name": "Python 3"
    },
    "language_info": {
      "name": "python"
    }
  },
  "cells": [
    {
      "cell_type": "markdown",
      "metadata": {
        "id": "view-in-github",
        "colab_type": "text"
      },
      "source": [
        "<a href=\"https://colab.research.google.com/github/neom200/sklearn-first-test/blob/main/MachineLearning_Tests.ipynb\" target=\"_parent\"><img src=\"https://colab.research.google.com/assets/colab-badge.svg\" alt=\"Open In Colab\"/></a>"
      ]
    },
    {
      "cell_type": "code",
      "metadata": {
        "id": "LhlCCOAS-dQd"
      },
      "source": [
        "# grande?\n",
        "# hiperativo?\n",
        "# faz auau?\n",
        "\n",
        "gato1 = [0,0,0]\n",
        "gato2 = [1,0,0]\n",
        "gato3 = [0,1,0]\n",
        "\n",
        "dog1 = [1,1,1]\n",
        "dog2 = [1,0,1]\n",
        "dog3 = [0,1,1]\n",
        "\n",
        "treino_x = [gato1, gato2, gato3, dog1, dog2, dog3]\n",
        "treino_y = [0,0,0,1,1,1] #0=gato ; 1=dog"
      ],
      "execution_count": null,
      "outputs": []
    },
    {
      "cell_type": "code",
      "metadata": {
        "colab": {
          "base_uri": "https://localhost:8080/"
        },
        "id": "TqVPSroFDidi",
        "outputId": "28d84912-5d54-42b4-84ab-04f2f324fdad"
      },
      "source": [
        "from sklearn.svm import LinearSVC\n",
        "\n",
        "modelo = LinearSVC()\n",
        "modelo.fit(treino_x, treino_y)"
      ],
      "execution_count": null,
      "outputs": [
        {
          "output_type": "execute_result",
          "data": {
            "text/plain": [
              "LinearSVC(C=1.0, class_weight=None, dual=True, fit_intercept=True,\n",
              "          intercept_scaling=1, loss='squared_hinge', max_iter=1000,\n",
              "          multi_class='ovr', penalty='l2', random_state=None, tol=0.0001,\n",
              "          verbose=0)"
            ]
          },
          "metadata": {},
          "execution_count": 2
        }
      ]
    },
    {
      "cell_type": "code",
      "metadata": {
        "colab": {
          "base_uri": "https://localhost:8080/"
        },
        "id": "7dO7DxETDwRI",
        "outputId": "759667a4-bc44-4107-963a-7bb295395d62"
      },
      "source": [
        "animalia = [0,0,1]\n",
        "modelo.predict([animalia])"
      ],
      "execution_count": null,
      "outputs": [
        {
          "output_type": "execute_result",
          "data": {
            "text/plain": [
              "array([1])"
            ]
          },
          "metadata": {},
          "execution_count": 3
        }
      ]
    },
    {
      "cell_type": "code",
      "metadata": {
        "id": "MYekwlSpEJm6",
        "outputId": "17250016-6a06-434f-80e0-f52ac67b0fbc",
        "colab": {
          "base_uri": "https://localhost:8080/"
        }
      },
      "source": [
        "from sklearn.svm import SVR\n",
        "\n",
        "X = [[0.1,0.2], [0.8,0.9], [0.2,0.7]]\n",
        "y = [0.0, 1.0, 0.5]\n",
        "\n",
        "kian = SVR()\n",
        "kian.fit(X,y)"
      ],
      "execution_count": 24,
      "outputs": [
        {
          "output_type": "execute_result",
          "data": {
            "text/plain": [
              "SVR(C=1.0, cache_size=200, coef0=0.0, degree=3, epsilon=0.1, gamma='scale',\n",
              "    kernel='rbf', max_iter=-1, shrinking=True, tol=0.001, verbose=False)"
            ]
          },
          "metadata": {},
          "execution_count": 24
        }
      ]
    },
    {
      "cell_type": "code",
      "metadata": {
        "id": "yQOTRzAsEXy1"
      },
      "source": [
        "novin = [[0.2,0.3], [0.5,0.6], [0.1,0.9]]\n",
        "results_novin = kian.predict(novin)"
      ],
      "execution_count": 28,
      "outputs": []
    },
    {
      "cell_type": "code",
      "metadata": {
        "id": "C3pwxm7rFeEq",
        "outputId": "37d2ea75-0d40-4583-971f-de688ecb7540",
        "colab": {
          "base_uri": "https://localhost:8080/",
          "height": 267
        }
      },
      "source": [
        "import matplotlib.pyplot as plt\n",
        "\n",
        "plt.plot(results_novin)\n",
        "plt.show()"
      ],
      "execution_count": 32,
      "outputs": [
        {
          "output_type": "display_data",
          "data": {
            "image/png": "[encoded data removed]",
            "text/plain": [
              "<Figure size 432x288 with 1 Axes>"
            ]
          },
          "metadata": {
            "needs_background": "light"
          }
        }
      ]
    }
  ]
}