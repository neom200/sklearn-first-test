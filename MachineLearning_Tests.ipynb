{
  "nbformat": 4,
  "nbformat_minor": 0,
  "metadata": {
    "colab": {
      "name": "MachineLearning - Tests.ipynb",
      "provenance": [],
      "authorship_tag": "ABX9TyP0n+UbaalVNT2qKbCLsThe",
      "include_colab_link": true
    },
    "kernelspec": {
      "name": "python3",
      "display_name": "Python 3"
    },
    "language_info": {
      "name": "python"
    }
  },
  "cells": [
    {
      "cell_type": "markdown",
      "metadata": {
        "id": "view-in-github",
        "colab_type": "text"
      },
      "source": [
        "<a href=\"https://colab.research.google.com/github/neom200/sklearn-first-test/blob/main/MachineLearning_Tests.ipynb\" target=\"_parent\"><img src=\"https://colab.research.google.com/assets/colab-badge.svg\" alt=\"Open In Colab\"/></a>"
      ]
    },
    {
      "cell_type": "markdown",
      "metadata": {
        "id": "FIowh1syM-aJ"
      },
      "source": [
        "PRIMEIRO TESTE COM SCIKIT-LEARN: Utilizaçãode dados básicos e um modelo simples"
      ]
    },
    {
      "cell_type": "code",
      "metadata": {
        "id": "LhlCCOAS-dQd"
      },
      "source": [
        "# grande?\n",
        "# hiperativo?\n",
        "# faz auau?\n",
        "\n",
        "gato1 = [0,0,0]\n",
        "gato2 = [1,0,0]\n",
        "gato3 = [0,1,0]\n",
        "\n",
        "dog1 = [1,1,1]\n",
        "dog2 = [1,0,1]\n",
        "dog3 = [0,1,1]\n",
        "\n",
        "treino_x = [gato1, gato2, gato3, dog1, dog2, dog3]\n",
        "treino_y = [0,0,0,1,1,1] #0=gato ; 1=dog"
      ],
      "execution_count": null,
      "outputs": []
    },
    {
      "cell_type": "code",
      "metadata": {
        "id": "TqVPSroFDidi"
      },
      "source": [
        "from sklearn.svm import LinearSVC\n",
        "\n",
        "modelo = LinearSVC()\n",
        "#modelo.fit(treino_x, treino_y)"
      ],
      "execution_count": null,
      "outputs": []
    },
    {
      "cell_type": "code",
      "metadata": {
        "colab": {
          "base_uri": "https://localhost:8080/"
        },
        "id": "7dO7DxETDwRI",
        "outputId": "759667a4-bc44-4107-963a-7bb295395d62"
      },
      "source": [
        "animalia = [0,0,1]\n",
        "modelo.predict([animalia])"
      ],
      "execution_count": null,
      "outputs": [
        {
          "output_type": "execute_result",
          "data": {
            "text/plain": [
              "array([1])"
            ]
          },
          "metadata": {},
          "execution_count": 3
        }
      ]
    },
    {
      "cell_type": "markdown",
      "metadata": {
        "id": "oJHjgoGsM0la"
      },
      "source": [
        "SEGUNDO TESTE COM SCIKIT-LEARN: Utilização de CSV, scaler, Pipeline"
      ]
    },
    {
      "cell_type": "code",
      "metadata": {
        "id": "C3pwxm7rFeEq"
      },
      "source": [
        "import pandas as pd"
      ],
      "execution_count": 1,
      "outputs": []
    },
    {
      "cell_type": "code",
      "metadata": {
        "id": "lredgpNf7Js9"
      },
      "source": [
        "alunos = pd.read_csv('dados_alunos.csv')"
      ],
      "execution_count": 3,
      "outputs": []
    },
    {
      "cell_type": "code",
      "metadata": {
        "id": "81VFc0LI_59E"
      },
      "source": [
        "alunos_x = alunos[[\"prova1\",\"prova2\",\"prova3\"]]\n",
        "alunos_y = alunos[\"resultado\"]"
      ],
      "execution_count": 4,
      "outputs": []
    },
    {
      "cell_type": "code",
      "metadata": {
        "id": "TAdbr42v9PGL"
      },
      "source": [
        "from sklearn.svm import LinearSVC\n",
        "import matplotlib.pyplot as plt\n",
        "from sklearn.preprocessing import StandardScaler\n",
        "from sklearn.pipeline import Pipeline"
      ],
      "execution_count": 6,
      "outputs": []
    },
    {
      "cell_type": "code",
      "metadata": {
        "id": "7gLal_519TR3"
      },
      "source": [
        "piposo = Pipeline([\n",
        "                   (\"scale\", StandardScaler()),\n",
        "                   (\"model\", LinearSVC())\n",
        "])"
      ],
      "execution_count": 16,
      "outputs": []
    },
    {
      "cell_type": "code",
      "metadata": {
        "id": "izXlxRww-PQD",
        "colab": {
          "base_uri": "https://localhost:8080/"
        },
        "outputId": "019113d0-3874-42c8-a944-4ea108cf8183"
      },
      "source": [
        "piposo.fit(alunos_x, alunos_y)"
      ],
      "execution_count": 18,
      "outputs": [
        {
          "output_type": "execute_result",
          "data": {
            "text/plain": [
              "Pipeline(memory=None,\n",
              "         steps=[('scale',\n",
              "                 StandardScaler(copy=True, with_mean=True, with_std=True)),\n",
              "                ('model',\n",
              "                 LinearSVC(C=1.0, class_weight=None, dual=True,\n",
              "                           fit_intercept=True, intercept_scaling=1,\n",
              "                           loss='squared_hinge', max_iter=1000,\n",
              "                           multi_class='ovr', penalty='l2', random_state=None,\n",
              "                           tol=0.0001, verbose=0))],\n",
              "         verbose=False)"
            ]
          },
          "metadata": {},
          "execution_count": 18
        }
      ]
    },
    {
      "cell_type": "code",
      "metadata": {
        "id": "5pTWwWE_MCku"
      },
      "source": [
        "predisoes = piposo.predict(alunos_x)"
      ],
      "execution_count": 19,
      "outputs": []
    },
    {
      "cell_type": "code",
      "metadata": {
        "id": "c_1bgaNVArpk",
        "colab": {
          "base_uri": "https://localhost:8080/"
        },
        "outputId": "5a372010-671d-40fd-cf85-2f004c400fe3"
      },
      "source": [
        "from sklearn.metrics import accuracy_score\n",
        "acuracia = accuracy_score(alunos_y,predisoes)\n",
        "print(acuracia)"
      ],
      "execution_count": 20,
      "outputs": [
        {
          "output_type": "stream",
          "name": "stdout",
          "text": [
            "1.0\n"
          ]
        }
      ]
    }
  ]
}