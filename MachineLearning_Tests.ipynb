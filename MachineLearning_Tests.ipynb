{
  "nbformat": 4,
  "nbformat_minor": 0,
  "metadata": {
    "colab": {
      "name": "MachineLearning - Tests.ipynb",
      "provenance": [],
      "authorship_tag": "ABX9TyPCA5G6k5UYV78IbnncPC+7",
      "include_colab_link": true
    },
    "kernelspec": {
      "name": "python3",
      "display_name": "Python 3"
    },
    "language_info": {
      "name": "python"
    }
  },
  "cells": [
    {
      "cell_type": "markdown",
      "metadata": {
        "id": "view-in-github",
        "colab_type": "text"
      },
      "source": [
        "<a href=\"https://colab.research.google.com/github/neom200/sklearn-first-test/blob/main/MachineLearning_Tests.ipynb\" target=\"_parent\"><img src=\"https://colab.research.google.com/assets/colab-badge.svg\" alt=\"Open In Colab\"/></a>"
      ]
    },
    {
      "cell_type": "code",
      "metadata": {
        "id": "LhlCCOAS-dQd"
      },
      "source": [
        "# grande?\n",
        "# hiperativo?\n",
        "# faz auau?\n",
        "\n",
        "gato1 = [0,0,0]\n",
        "gato2 = [1,0,0]\n",
        "gato3 = [0,1,0]\n",
        "\n",
        "dog1 = [1,1,1]\n",
        "dog2 = [1,0,1]\n",
        "dog3 = [0,1,1]\n",
        "\n",
        "treino_x = [gato1, gato2, gato3, dog1, dog2, dog3]\n",
        "treino_y = [0,0,0,1,1,1] #0=gato ; 1=dog"
      ],
      "execution_count": 1,
      "outputs": []
    },
    {
      "cell_type": "code",
      "metadata": {
        "colab": {
          "base_uri": "https://localhost:8080/"
        },
        "id": "TqVPSroFDidi",
        "outputId": "28d84912-5d54-42b4-84ab-04f2f324fdad"
      },
      "source": [
        "from sklearn.svm import LinearSVC\n",
        "\n",
        "modelo = LinearSVC()\n",
        "modelo.fit(treino_x, treino_y)"
      ],
      "execution_count": 2,
      "outputs": [
        {
          "output_type": "execute_result",
          "data": {
            "text/plain": [
              "LinearSVC(C=1.0, class_weight=None, dual=True, fit_intercept=True,\n",
              "          intercept_scaling=1, loss='squared_hinge', max_iter=1000,\n",
              "          multi_class='ovr', penalty='l2', random_state=None, tol=0.0001,\n",
              "          verbose=0)"
            ]
          },
          "metadata": {},
          "execution_count": 2
        }
      ]
    },
    {
      "cell_type": "code",
      "metadata": {
        "colab": {
          "base_uri": "https://localhost:8080/"
        },
        "id": "7dO7DxETDwRI",
        "outputId": "759667a4-bc44-4107-963a-7bb295395d62"
      },
      "source": [
        "animalia = [0,0,1]\n",
        "modelo.predict([animalia])"
      ],
      "execution_count": 3,
      "outputs": [
        {
          "output_type": "execute_result",
          "data": {
            "text/plain": [
              "array([1])"
            ]
          },
          "metadata": {},
          "execution_count": 3
        }
      ]
    },
    {
      "cell_type": "code",
      "metadata": {
        "id": "HnpWPXMaEcOH"
      },
      "source": [
        ""
      ],
      "execution_count": null,
      "outputs": []
    }
  ]
}