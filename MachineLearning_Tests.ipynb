{
  "nbformat": 4,
  "nbformat_minor": 0,
  "metadata": {
    "colab": {
      "name": "MachineLearning - Tests.ipynb",
      "provenance": [],
      "authorship_tag": "ABX9TyO2mw14Bpit/jprhPBvqGrS",
      "include_colab_link": true
    },
    "kernelspec": {
      "name": "python3",
      "display_name": "Python 3"
    },
    "language_info": {
      "name": "python"
    }
  },
  "cells": [
    {
      "cell_type": "markdown",
      "metadata": {
        "id": "view-in-github",
        "colab_type": "text"
      },
      "source": [
        "<a href=\"https://colab.research.google.com/github/neom200/sklearn-first-test/blob/main/MachineLearning_Tests.ipynb\" target=\"_parent\"><img src=\"https://colab.research.google.com/assets/colab-badge.svg\" alt=\"Open In Colab\"/></a>"
      ]
    },
    {
      "cell_type": "markdown",
      "metadata": {
        "id": "FIowh1syM-aJ"
      },
      "source": [
        "PRIMEIRO TESTE COM SCIKIT-LEARN: Utilizaçãode dados básicos e um modelo simples"
      ]
    },
    {
      "cell_type": "code",
      "metadata": {
        "id": "LhlCCOAS-dQd"
      },
      "source": [
        "# grande?\n",
        "# hiperativo?\n",
        "# faz auau?\n",
        "\n",
        "gato1 = [0,0,0]\n",
        "gato2 = [1,0,0]\n",
        "gato3 = [0,1,0]\n",
        "\n",
        "dog1 = [1,1,1]\n",
        "dog2 = [1,0,1]\n",
        "dog3 = [0,1,1]\n",
        "\n",
        "treino_x = [gato1, gato2, gato3, dog1, dog2, dog3]\n",
        "treino_y = [0,0,0,1,1,1] #0=gato ; 1=dog"
      ],
      "execution_count": null,
      "outputs": []
    },
    {
      "cell_type": "code",
      "metadata": {
        "id": "TqVPSroFDidi"
      },
      "source": [
        "from sklearn.svm import LinearSVC\n",
        "\n",
        "modelo = LinearSVC()\n",
        "#modelo.fit(treino_x, treino_y)"
      ],
      "execution_count": null,
      "outputs": []
    },
    {
      "cell_type": "code",
      "metadata": {
        "colab": {
          "base_uri": "https://localhost:8080/"
        },
        "id": "7dO7DxETDwRI",
        "outputId": "759667a4-bc44-4107-963a-7bb295395d62"
      },
      "source": [
        "animalia = [0,0,1]\n",
        "modelo.predict([animalia])"
      ],
      "execution_count": null,
      "outputs": [
        {
          "output_type": "execute_result",
          "data": {
            "text/plain": [
              "array([1])"
            ]
          },
          "metadata": {},
          "execution_count": 3
        }
      ]
    },
    {
      "cell_type": "markdown",
      "metadata": {
        "id": "oJHjgoGsM0la"
      },
      "source": [
        "SEGUNDO TESTE COM SCIKIT-LEARN: Utilização de CSV, scaler, Pipeline"
      ]
    },
    {
      "cell_type": "code",
      "metadata": {
        "id": "C3pwxm7rFeEq"
      },
      "source": [
        "import pandas as pd\n",
        "alunos = pd.read_csv('dados_alunos.csv')\n",
        "\n",
        "alunos_x = alunos[[\"prova1\",\"prova2\",\"prova3\"]]\n",
        "alunos_y = alunos[\"resultado\"]"
      ],
      "execution_count": 2,
      "outputs": []
    },
    {
      "cell_type": "code",
      "metadata": {
        "id": "TAdbr42v9PGL"
      },
      "source": [
        "from sklearn.svm import LinearSVC\n",
        "import matplotlib.pyplot as plt\n",
        "from sklearn.preprocessing import StandardScaler\n",
        "from sklearn.pipeline import Pipeline"
      ],
      "execution_count": null,
      "outputs": []
    },
    {
      "cell_type": "code",
      "metadata": {
        "id": "7gLal_519TR3"
      },
      "source": [
        "piposo = Pipeline([\n",
        "                   (\"scale\", StandardScaler()),\n",
        "                   (\"model\", LinearSVC())\n",
        "])"
      ],
      "execution_count": null,
      "outputs": []
    },
    {
      "cell_type": "code",
      "metadata": {
        "id": "izXlxRww-PQD",
        "colab": {
          "base_uri": "https://localhost:8080/"
        },
        "outputId": "019113d0-3874-42c8-a944-4ea108cf8183"
      },
      "source": [
        "piposo.fit(alunos_x, alunos_y)"
      ],
      "execution_count": null,
      "outputs": [
        {
          "output_type": "execute_result",
          "data": {
            "text/plain": [
              "Pipeline(memory=None,\n",
              "         steps=[('scale',\n",
              "                 StandardScaler(copy=True, with_mean=True, with_std=True)),\n",
              "                ('model',\n",
              "                 LinearSVC(C=1.0, class_weight=None, dual=True,\n",
              "                           fit_intercept=True, intercept_scaling=1,\n",
              "                           loss='squared_hinge', max_iter=1000,\n",
              "                           multi_class='ovr', penalty='l2', random_state=None,\n",
              "                           tol=0.0001, verbose=0))],\n",
              "         verbose=False)"
            ]
          },
          "metadata": {},
          "execution_count": 18
        }
      ]
    },
    {
      "cell_type": "code",
      "metadata": {
        "id": "5pTWwWE_MCku"
      },
      "source": [
        "predisoes = piposo.predict(alunos_x)"
      ],
      "execution_count": null,
      "outputs": []
    },
    {
      "cell_type": "code",
      "metadata": {
        "id": "c_1bgaNVArpk",
        "colab": {
          "base_uri": "https://localhost:8080/"
        },
        "outputId": "5a372010-671d-40fd-cf85-2f004c400fe3"
      },
      "source": [
        "from sklearn.metrics import accuracy_score\n",
        "acuracia = accuracy_score(alunos_y,predisoes)\n",
        "print(acuracia)"
      ],
      "execution_count": null,
      "outputs": [
        {
          "output_type": "stream",
          "name": "stdout",
          "text": [
            "1.0\n"
          ]
        }
      ]
    },
    {
      "cell_type": "markdown",
      "metadata": {
        "id": "DraT0eeUc1qk"
      },
      "source": [
        "TERCEIRO TESTE DE MACHINE LEARNING: Usando Keras em Tensorflow"
      ]
    },
    {
      "cell_type": "code",
      "metadata": {
        "id": "whSMXAlVc7sr"
      },
      "source": [
        "from tensorflow.keras.models import Sequential\n",
        "from tensorflow.keras.layers import Dense\n",
        "from sklearn.metrics import accuracy_score"
      ],
      "execution_count": 6,
      "outputs": []
    },
    {
      "cell_type": "code",
      "metadata": {
        "id": "rNirdCQtdf7Y"
      },
      "source": [
        "tf_modelo = Sequential()\n",
        "tf_modelo.add(Dense(units=4, activation='relu', input_dim=len(alunos_x.columns)))\n",
        "tf_modelo.add(Dense(units=8, activation='relu'))\n",
        "tf_modelo.add(Dense(units=1, activation='sigmoid'))"
      ],
      "execution_count": 10,
      "outputs": []
    },
    {
      "cell_type": "code",
      "metadata": {
        "id": "F998-mk_ePZ9"
      },
      "source": [
        "tf_modelo.compile(loss='binary_crossentropy', optimizer='sgd', metrics='accuracy')"
      ],
      "execution_count": 11,
      "outputs": []
    },
    {
      "cell_type": "code",
      "metadata": {
        "id": "HzVmBOEce0Pv"
      },
      "source": [
        "tf_modelo.fit(alunos_x, alunos_y, epochs=25, batch_size=4)"
      ],
      "execution_count": null,
      "outputs": []
    },
    {
      "cell_type": "code",
      "metadata": {
        "id": "Itysz521fhJX"
      },
      "source": [
        "alunos_teste = [ [5.6,7.8,8.8], [3.2,2.2,5.5], [6.6,5.7,6.0], [7.8,8.9,9.7]]\n",
        "#alunos_teste_classes = [1, 0, 1, 1]\n",
        "y_hat = tf_modelo.predict(alunos_teste)\n",
        "y_hat = [0 if val < 0.6 else 1 for val in y_hat]"
      ],
      "execution_count": 17,
      "outputs": []
    },
    {
      "cell_type": "code",
      "metadata": {
        "id": "ddtjLoubgctc",
        "outputId": "daf04532-328e-45a6-d43a-15fe1573761d",
        "colab": {
          "base_uri": "https://localhost:8080/"
        }
      },
      "source": [
        "print(y_hat)"
      ],
      "execution_count": 18,
      "outputs": [
        {
          "output_type": "stream",
          "name": "stdout",
          "text": [
            "[1, 0, 1, 1]\n"
          ]
        }
      ]
    }
  ]
}