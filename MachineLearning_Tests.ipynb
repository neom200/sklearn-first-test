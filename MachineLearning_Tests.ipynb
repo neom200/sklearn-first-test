{
  "nbformat": 4,
  "nbformat_minor": 0,
  "metadata": {
    "colab": {
      "name": "MachineLearning - Tests.ipynb",
      "provenance": [],
      "authorship_tag": "ABX9TyOvVW6+j/1J5gxCUvBCcTLF",
      "include_colab_link": true
    },
    "kernelspec": {
      "name": "python3",
      "display_name": "Python 3"
    },
    "language_info": {
      "name": "python"
    }
  },
  "cells": [
    {
      "cell_type": "markdown",
      "metadata": {
        "id": "view-in-github",
        "colab_type": "text"
      },
      "source": [
        "<a href=\"https://colab.research.google.com/github/neom200/sklearn-first-test/blob/main/MachineLearning_Tests.ipynb\" target=\"_parent\"><img src=\"https://colab.research.google.com/assets/colab-badge.svg\" alt=\"Open In Colab\"/></a>"
      ]
    },
    {
      "cell_type": "code",
      "metadata": {
        "id": "LhlCCOAS-dQd"
      },
      "source": [
        "# grande?\n",
        "# hiperativo?\n",
        "# faz auau?\n",
        "\n",
        "gato1 = [0,0,0]\n",
        "gato2 = [1,0,0]\n",
        "gato3 = [0,1,0]\n",
        "\n",
        "dog1 = [1,1,1]\n",
        "dog2 = [1,0,1]\n",
        "dog3 = [0,1,1]\n",
        "\n",
        "treino_x = [gato1, gato2, gato3, dog1, dog2, dog3]\n",
        "treino_y = [0,0,0,1,1,1] #0=gato ; 1=dog"
      ],
      "execution_count": null,
      "outputs": []
    },
    {
      "cell_type": "code",
      "metadata": {
        "id": "TqVPSroFDidi"
      },
      "source": [
        "from sklearn.svm import LinearSVC\n",
        "\n",
        "modelo = LinearSVC()\n",
        "#modelo.fit(treino_x, treino_y)"
      ],
      "execution_count": 12,
      "outputs": []
    },
    {
      "cell_type": "code",
      "metadata": {
        "colab": {
          "base_uri": "https://localhost:8080/"
        },
        "id": "7dO7DxETDwRI",
        "outputId": "759667a4-bc44-4107-963a-7bb295395d62"
      },
      "source": [
        "animalia = [0,0,1]\n",
        "modelo.predict([animalia])"
      ],
      "execution_count": null,
      "outputs": [
        {
          "output_type": "execute_result",
          "data": {
            "text/plain": [
              "array([1])"
            ]
          },
          "metadata": {},
          "execution_count": 3
        }
      ]
    },
    {
      "cell_type": "code",
      "metadata": {
        "id": "C3pwxm7rFeEq"
      },
      "source": [
        "import pandas as pd"
      ],
      "execution_count": 3,
      "outputs": []
    },
    {
      "cell_type": "code",
      "metadata": {
        "id": "lredgpNf7Js9"
      },
      "source": [
        "alunos = pd.read_csv('dados_alunos.csv')"
      ],
      "execution_count": 51,
      "outputs": []
    },
    {
      "cell_type": "code",
      "metadata": {
        "id": "81VFc0LI_59E"
      },
      "source": [
        "alunos_x = alunos[[\"prova1\",\"prova2\",\"prova3\"]]\n",
        "alunos_y = alunos[\"resultado\"]"
      ],
      "execution_count": 52,
      "outputs": []
    },
    {
      "cell_type": "code",
      "metadata": {
        "id": "TAdbr42v9PGL"
      },
      "source": [
        "from sklearn.neighbors import KNeighborsClassifier\n",
        "import matplotlib.pyplot as plt\n",
        "from sklearn.preprocessing import StandardScaler\n",
        "from sklearn.pipeline import Pipeline"
      ],
      "execution_count": 35,
      "outputs": []
    },
    {
      "cell_type": "code",
      "metadata": {
        "id": "7gLal_519TR3",
        "outputId": "8556d021-c3c3-473a-864d-263b61880acd",
        "colab": {
          "base_uri": "https://localhost:8080/",
          "height": 55
        }
      },
      "source": [
        "teste_model = KNeighborsClassifier().fit(alunos_x,alunos_y)\n",
        "\n",
        "\"\"\"\n",
        "piposo = Pipeline([\n",
        "                   (\"scale\", StandardScaler()),\n",
        "                   (\"model\", KNeighborsClassifier())\n",
        "])\n",
        "\"\"\""
      ],
      "execution_count": 53,
      "outputs": [
        {
          "output_type": "execute_result",
          "data": {
            "application/vnd.google.colaboratory.intrinsic+json": {
              "type": "string"
            },
            "text/plain": [
              "'\\npiposo = Pipeline([\\n                   (\"scale\", StandardScaler()),\\n                   (\"model\", KNeighborsClassifier())\\n])\\n'"
            ]
          },
          "metadata": {},
          "execution_count": 53
        }
      ]
    },
    {
      "cell_type": "code",
      "metadata": {
        "id": "izXlxRww-PQD",
        "outputId": "937332a7-7614-44c4-964a-4aac10d57875",
        "colab": {
          "base_uri": "https://localhost:8080/"
        }
      },
      "source": [
        "teste_model.predict(alunos_x)\n",
        "#piposo.fit(alunos_x,alunos_y)"
      ],
      "execution_count": 54,
      "outputs": [
        {
          "output_type": "execute_result",
          "data": {
            "text/plain": [
              "array([1, 0, 1, 0, 1, 1, 0, 1])"
            ]
          },
          "metadata": {},
          "execution_count": 54
        }
      ]
    },
    {
      "cell_type": "code",
      "metadata": {
        "id": "SQ3_ywA09Z3K"
      },
      "source": [
        "predisoes = teste_model.predict(alunos_x)"
      ],
      "execution_count": 55,
      "outputs": []
    },
    {
      "cell_type": "code",
      "metadata": {
        "id": "c_1bgaNVArpk",
        "outputId": "32e59979-4590-45d5-c943-a629a4ba742b",
        "colab": {
          "base_uri": "https://localhost:8080/"
        }
      },
      "source": [
        "from sklearn.metrics import accuracy_score\n",
        "acuracia = accuracy_score(alunos_y,predisoes)\n",
        "print(acuracia)"
      ],
      "execution_count": 56,
      "outputs": [
        {
          "output_type": "stream",
          "name": "stdout",
          "text": [
            "0.875\n"
          ]
        }
      ]
    }
  ]
}